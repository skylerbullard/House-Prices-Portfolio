{
 "cells": [
  {
   "cell_type": "markdown",
   "id": "0e2101e4",
   "metadata": {},
   "source": [
    "# Getting Started: Prediction Competition"
   ]
  },
  {
   "cell_type": "markdown",
   "id": "23552253",
   "metadata": {},
   "source": [
    "### House Prices - Advanced Regression Techniques"
   ]
  },
  {
   "cell_type": "markdown",
   "id": "3a808c9a",
   "metadata": {},
   "source": [
    "# DEFINE"
   ]
  },
  {
   "cell_type": "markdown",
   "id": "4d587235",
   "metadata": {},
   "source": [
    "Goal: Predict the final price of each home by predicting the value of the SalePrice variable with a simple MSE model\n",
    "\n",
    "- The target variable is the predicted 'SalePrice' for each home. Submissions are evaluated on the Root-Mean-Squared-Error between the logarithm of the predicted value and the logarithm of the observed sale price. (taking logs means errors for expensive houses and cheap houses will affect the results differently)\n",
    "\n",
    ">>_RMSE = log( PredictSalePrice ) - log( SalePrice )_\n",
    "\n",
    "- Two files provided: test.csv with attributes of each home we're trying to predict on and train.csv which has the sale price for each home.\n",
    " \n",
    "- The evaluation metric will be Root-Mean-Squared-Error (RMSE), or the measure of error between a predicted value and an observed value."
   ]
  },
  {
   "cell_type": "markdown",
   "id": "2b29f5bb",
   "metadata": {},
   "source": [
    "# Get Organized"
   ]
  },
  {
   "cell_type": "markdown",
   "id": "1f51bf1c",
   "metadata": {},
   "source": [
    "### Reproducibility"
   ]
  },
  {
   "cell_type": "markdown",
   "id": "93b4a348",
   "metadata": {},
   "source": [
    "Make sure to write code that other people will probably need to run"
   ]
  },
  {
   "cell_type": "markdown",
   "id": "a7bbcb05",
   "metadata": {},
   "source": [
    "### Production Readines"
   ]
  },
  {
   "cell_type": "markdown",
   "id": "22c6059b",
   "metadata": {},
   "source": [
    "Account for the fact that in production the preprocessing will be done one record at a time. Ensure your pipeline handles (scores) new data as it comes in"
   ]
  },
  {
   "cell_type": "markdown",
   "id": "ba4b8bb3",
   "metadata": {},
   "source": [
    "### Avoiding Mistakes"
   ]
  },
  {
   "cell_type": "markdown",
   "id": "784e288f",
   "metadata": {},
   "source": [
    "Write clean code and stay organized to help avoid time-consuming and costly mistakes"
   ]
  },
  {
   "cell_type": "markdown",
   "id": "5ef61c08",
   "metadata": {},
   "source": [
    "# Where to put Data and Code"
   ]
  },
  {
   "cell_type": "markdown",
   "id": "52dec974",
   "metadata": {},
   "source": [
    "### Directory Structure"
   ]
  },
  {
   "cell_type": "markdown",
   "id": "afab3d6c",
   "metadata": {},
   "source": [
    "Have a sensible structure for where data and code like so it's easier to understand the workflow, by yourself and others"
   ]
  },
  {
   "cell_type": "markdown",
   "id": "bcaba0e0",
   "metadata": {},
   "source": [
    "### Making Separate Code Files for Different Tasks"
   ]
  },
  {
   "cell_type": "markdown",
   "id": "5c7c6f69",
   "metadata": {},
   "source": [
    "Separate scripts or notebooks for each task helps everyone get up and running quicker. Different parts of your pipeline might wish to be run at different times"
   ]
  },
  {
   "cell_type": "code",
   "execution_count": null,
   "id": "4f65be5a",
   "metadata": {},
   "outputs": [],
   "source": []
  }
 ],
 "metadata": {
  "kernelspec": {
   "display_name": "Python 3 (ipykernel)",
   "language": "python",
   "name": "python3"
  },
  "language_info": {
   "codemirror_mode": {
    "name": "ipython",
    "version": 3
   },
   "file_extension": ".py",
   "mimetype": "text/x-python",
   "name": "python",
   "nbconvert_exporter": "python",
   "pygments_lexer": "ipython3",
   "version": "3.9.7"
  }
 },
 "nbformat": 4,
 "nbformat_minor": 5
}
