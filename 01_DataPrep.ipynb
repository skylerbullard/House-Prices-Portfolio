{
 "cells": [
  {
   "cell_type": "markdown",
   "id": "e399fae5",
   "metadata": {},
   "source": [
    "# Data Prep"
   ]
  },
  {
   "cell_type": "code",
   "execution_count": 6,
   "id": "04486b88",
   "metadata": {},
   "outputs": [],
   "source": [
    "import pandas as pd"
   ]
  },
  {
   "cell_type": "code",
   "execution_count": 7,
   "id": "0a61ccdb",
   "metadata": {},
   "outputs": [],
   "source": [
    "observed_df = pd.read_csv( open ('train.csv' ) )\n",
    "test_df = pd.read_csv( open ('test.csv' ) )"
   ]
  },
  {
   "cell_type": "code",
   "execution_count": null,
   "id": "80a26efe",
   "metadata": {},
   "outputs": [],
   "source": []
  }
 ],
 "metadata": {
  "kernelspec": {
   "display_name": "Python 3 (ipykernel)",
   "language": "python",
   "name": "python3"
  },
  "language_info": {
   "codemirror_mode": {
    "name": "ipython",
    "version": 3
   },
   "file_extension": ".py",
   "mimetype": "text/x-python",
   "name": "python",
   "nbconvert_exporter": "python",
   "pygments_lexer": "ipython3",
   "version": "3.9.7"
  }
 },
 "nbformat": 4,
 "nbformat_minor": 5
}
