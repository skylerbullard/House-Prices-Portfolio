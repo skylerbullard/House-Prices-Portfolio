{
 "cells": [
  {
   "cell_type": "markdown",
   "id": "54a5b3c7",
   "metadata": {},
   "source": [
    "# Preprocessing"
   ]
  },
  {
   "cell_type": "code",
   "execution_count": 1,
   "id": "e15eb811",
   "metadata": {},
   "outputs": [],
   "source": [
    "import pandas as pd"
   ]
  },
  {
   "cell_type": "markdown",
   "id": "a1f8bb10",
   "metadata": {},
   "source": [
    "This is where _feature engineering_ and _missing value imputation_ take place. A few notes:"
   ]
  },
  {
   "cell_type": "markdown",
   "id": "b1326b92",
   "metadata": {},
   "source": [
    "1. should convert raw data to the data model expects\n",
    "2. should be a static 1:1 mapping of inputs to outputs ???\n",
    "3. should not depend on size of input; should produce same result for one as it does for 1000\n",
    "4. should not drop or change order of any records"
   ]
  },
  {
   "cell_type": "code",
   "execution_count": null,
   "id": "7e2f0449",
   "metadata": {},
   "outputs": [],
   "source": []
  }
 ],
 "metadata": {
  "kernelspec": {
   "display_name": "Python 3 (ipykernel)",
   "language": "python",
   "name": "python3"
  },
  "language_info": {
   "codemirror_mode": {
    "name": "ipython",
    "version": 3
   },
   "file_extension": ".py",
   "mimetype": "text/x-python",
   "name": "python",
   "nbconvert_exporter": "python",
   "pygments_lexer": "ipython3",
   "version": "3.9.7"
  }
 },
 "nbformat": 4,
 "nbformat_minor": 5
}
