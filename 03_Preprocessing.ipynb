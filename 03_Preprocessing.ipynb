{
 "cells": [
  {
   "cell_type": "markdown",
   "id": "f16aef98",
   "metadata": {},
   "source": [
    "# Preprocessing"
   ]
  },
  {
   "cell_type": "markdown",
   "id": "51cfe836",
   "metadata": {},
   "source": [
    "This is where _feature engineering_ and _missing value imputation_ take place. A few points to hit:"
   ]
  },
  {
   "cell_type": "markdown",
   "id": "b8b5db9a",
   "metadata": {},
   "source": [
    "1. should convert raw data to the data model expects\n",
    "2. should be a static 1:1 mapping of inputs to outputs\n",
    "3. should not depend on size of input; should produce same result for one as it does for 1000\n",
    "4. should not drop or change order of any records"
   ]
  },
  {
   "cell_type": "code",
   "execution_count": 2,
   "id": "10a22939",
   "metadata": {},
   "outputs": [],
   "source": [
    "#import anything we might need\n",
    "import pandas as pd\n",
    "from sklearn.model_selection import train_test_split"
   ]
  },
  {
   "cell_type": "code",
   "execution_count": 3,
   "id": "d65e53c8",
   "metadata": {},
   "outputs": [],
   "source": [
    "#load in data\n",
    "observed_df = pd.read_csv( open ('train.csv' ) )"
   ]
  },
  {
   "cell_type": "markdown",
   "id": "5eb00cd3",
   "metadata": {},
   "source": [
    "we are not going to delete anything for this model"
   ]
  },
  {
   "cell_type": "code",
   "execution_count": 4,
   "id": "975fcdb9",
   "metadata": {},
   "outputs": [],
   "source": [
    "#split dataset containing target values\n",
    "observation_train , observation_test = train_test_split( \n",
    "    observed_df , random_state = 25 )"
   ]
  },
  {
   "cell_type": "markdown",
   "id": "555fdc76",
   "metadata": {},
   "source": [
    "### Deal With Missing Values"
   ]
  },
  {
   "cell_type": "markdown",
   "id": "80db38fb",
   "metadata": {},
   "source": [
    "however we are going to impute missing values with -1"
   ]
  },
  {
   "cell_type": "code",
   "execution_count": 7,
   "id": "725f643e",
   "metadata": {
    "scrolled": true
   },
   "outputs": [],
   "source": [
    "observation_train = observation_train.fillna( -1 )"
   ]
  },
  {
   "cell_type": "code",
   "execution_count": 9,
   "id": "b1a5f197",
   "metadata": {},
   "outputs": [],
   "source": [
    "observation_test = observation_test.fillna( -1 )"
   ]
  },
  {
   "cell_type": "markdown",
   "id": "6c183f55",
   "metadata": {},
   "source": [
    "confirm no missing values remain ( no error message appears ) #nice!"
   ]
  },
  {
   "cell_type": "code",
   "execution_count": 12,
   "id": "cea53524",
   "metadata": {},
   "outputs": [],
   "source": [
    "assert all( observation_train.isna().sum() == 0 )"
   ]
  },
  {
   "cell_type": "code",
   "execution_count": 13,
   "id": "7cce7abe",
   "metadata": {},
   "outputs": [],
   "source": [
    "assert all( observation_test.isna().sum() == 0 )"
   ]
  },
  {
   "cell_type": "markdown",
   "id": "e353fc1d",
   "metadata": {},
   "source": [
    "### Encode Categorical Features"
   ]
  },
  {
   "cell_type": "code",
   "execution_count": null,
   "id": "28496e4f",
   "metadata": {},
   "outputs": [],
   "source": []
  }
 ],
 "metadata": {
  "kernelspec": {
   "display_name": "Python 3 (ipykernel)",
   "language": "python",
   "name": "python3"
  },
  "language_info": {
   "codemirror_mode": {
    "name": "ipython",
    "version": 3
   },
   "file_extension": ".py",
   "mimetype": "text/x-python",
   "name": "python",
   "nbconvert_exporter": "python",
   "pygments_lexer": "ipython3",
   "version": "3.9.7"
  }
 },
 "nbformat": 4,
 "nbformat_minor": 5
}
