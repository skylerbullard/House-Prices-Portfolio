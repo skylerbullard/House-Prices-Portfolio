{
 "cells": [
  {
   "cell_type": "markdown",
   "id": "bbe95994",
   "metadata": {},
   "source": [
    "# Model Build + Tune"
   ]
  },
  {
   "cell_type": "code",
   "execution_count": 2,
   "id": "ffdbfc04",
   "metadata": {},
   "outputs": [],
   "source": [
    "#import everything we might need\n",
    "import pandas as pd\n",
    "import numpy as np\n",
    "import matplotlib.pyplot as plt\n",
    "from sklearn.linear_model import LinearRegression\n",
    "from sklearn.model_selection import train_test_split"
   ]
  },
  {
   "cell_type": "code",
   "execution_count": 3,
   "id": "d9f69079",
   "metadata": {},
   "outputs": [],
   "source": [
    "observed_df = pd.read_csv( open ('train.csv' ) )"
   ]
  },
  {
   "cell_type": "code",
   "execution_count": 4,
   "id": "2b27e313",
   "metadata": {},
   "outputs": [],
   "source": [
    "#split dataset containing target values\n",
    "observation_train , observation_test = train_test_split( \n",
    "    observed_df , random_state = 25 )"
   ]
  },
  {
   "cell_type": "code",
   "execution_count": 5,
   "id": "ed769189",
   "metadata": {},
   "outputs": [],
   "source": [
    "observation_train = observation_train.fillna( -1 )"
   ]
  },
  {
   "cell_type": "code",
   "execution_count": 6,
   "id": "d09085e4",
   "metadata": {},
   "outputs": [],
   "source": [
    "observation_test = observation_test.fillna( -1 )"
   ]
  },
  {
   "cell_type": "code",
   "execution_count": 7,
   "id": "ba2d877e",
   "metadata": {},
   "outputs": [],
   "source": [
    "observ_train = pd.get_dummies( observation_train , columns = observation_train.dtypes[ \n",
    "    observation_train.dtypes == 'object'].index , dummy_na = True )"
   ]
  },
  {
   "cell_type": "code",
   "execution_count": 8,
   "id": "0d5b5bdf",
   "metadata": {},
   "outputs": [],
   "source": [
    "observ_test = pd.get_dummies( observation_test , columns = observation_test.dtypes[ \n",
    "    observation_test.dtypes == 'object'].index , dummy_na = True )"
   ]
  },
  {
   "cell_type": "markdown",
   "id": "d69fa590",
   "metadata": {},
   "source": [
    "### Define Success\n",
    "\n",
    "select final model parameters based on Kaggle evaluation criterion , Mean Absolute "
   ]
  }
 ],
 "metadata": {
  "kernelspec": {
   "display_name": "Python 3 (ipykernel)",
   "language": "python",
   "name": "python3"
  },
  "language_info": {
   "codemirror_mode": {
    "name": "ipython",
    "version": 3
   },
   "file_extension": ".py",
   "mimetype": "text/x-python",
   "name": "python",
   "nbconvert_exporter": "python",
   "pygments_lexer": "ipython3",
   "version": "3.9.7"
  }
 },
 "nbformat": 4,
 "nbformat_minor": 5
}
