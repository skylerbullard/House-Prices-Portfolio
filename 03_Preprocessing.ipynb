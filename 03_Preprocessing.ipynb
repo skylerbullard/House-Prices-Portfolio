{
 "cells": [
  {
   "cell_type": "markdown",
   "id": "f16aef98",
   "metadata": {},
   "source": [
    "# Preprocessing"
   ]
  },
  {
   "cell_type": "markdown",
   "id": "51cfe836",
   "metadata": {},
   "source": [
    "This is where _feature engineering_ and _missing value imputation_ take place. A few points to hit:"
   ]
  },
  {
   "cell_type": "markdown",
   "id": "b8b5db9a",
   "metadata": {},
   "source": [
    "1. should convert raw data to the data model expects\n",
    "2. should be a static 1:1 mapping of inputs to outputs\n",
    "3. should not depend on size of input; should produce same result for one as it does for 1000\n",
    "4. should not drop or change order of any records"
   ]
  },
  {
   "cell_type": "code",
   "execution_count": 2,
   "id": "10a22939",
   "metadata": {},
   "outputs": [],
   "source": [
    "#import anything we might need\n",
    "import pandas as pd\n",
    "from sklearn.model_selection import train_test_split"
   ]
  },
  {
   "cell_type": "code",
   "execution_count": 3,
   "id": "d65e53c8",
   "metadata": {},
   "outputs": [],
   "source": [
    "#load in data\n",
    "observed_df = pd.read_csv( open ('train.csv' ) )"
   ]
  },
  {
   "cell_type": "markdown",
   "id": "5eb00cd3",
   "metadata": {},
   "source": [
    "we are not going to delete anything for this model"
   ]
  },
  {
   "cell_type": "code",
   "execution_count": 4,
   "id": "975fcdb9",
   "metadata": {},
   "outputs": [],
   "source": [
    "#split dataset containing target values\n",
    "observation_train , observation_test = train_test_split( \n",
    "    observed_df , random_state = 25 )"
   ]
  },
  {
   "cell_type": "markdown",
   "id": "d78cb544",
   "metadata": {},
   "source": [
    "### Deal With Missing Values"
   ]
  },
  {
   "cell_type": "markdown",
   "id": "1c2f4de2",
   "metadata": {},
   "source": [
    "however we are going to impute missing values with -1"
   ]
  },
  {
   "cell_type": "code",
   "execution_count": 7,
   "id": "023f2aa0",
   "metadata": {
    "scrolled": true
   },
   "outputs": [],
   "source": [
    "observation_train = observation_train.fillna( -1 )"
   ]
  },
  {
   "cell_type": "code",
   "execution_count": 9,
   "id": "c303f01d",
   "metadata": {},
   "outputs": [],
   "source": [
    "observation_test = observation_test.fillna( -1 )"
   ]
  },
  {
   "cell_type": "markdown",
   "id": "94e147d0",
   "metadata": {},
   "source": [
    "confirm no missing values remain ( no error message appears ) #nice!"
   ]
  },
  {
   "cell_type": "code",
   "execution_count": 12,
   "id": "c3028eb2",
   "metadata": {},
   "outputs": [],
   "source": [
    "assert all( observation_train.isna().sum() == 0 )"
   ]
  },
  {
   "cell_type": "code",
   "execution_count": 13,
   "id": "6dabb502",
   "metadata": {},
   "outputs": [],
   "source": [
    "assert all( observation_test.isna().sum() == 0 )"
   ]
  },
  {
   "cell_type": "markdown",
   "id": "75aacd11",
   "metadata": {},
   "source": [
    "### Encode Categorical Features"
   ]
  },
  {
   "cell_type": "code",
   "execution_count": 14,
   "id": "7262c04a",
   "metadata": {},
   "outputs": [],
   "source": [
    "observ_train = pd.get_dummies( observation_train , columns = observation_train.dtypes[ \n",
    "    observation_train.dtypes == 'object'].index , dummy_na = True )"
   ]
  },
  {
   "cell_type": "code",
   "execution_count": 15,
   "id": "c6fba22a",
   "metadata": {},
   "outputs": [],
   "source": [
    "observ_test = pd.get_dummies( observation_test , columns = observation_test.dtypes[ \n",
    "    observation_test.dtypes == 'object'].index , dummy_na = True )"
   ]
  },
  {
   "cell_type": "markdown",
   "id": "c41a32a9",
   "metadata": {},
   "source": [
    "Now we have alot more columns because get_dummies returned all levels in a feature"
   ]
  },
  {
   "cell_type": "code",
   "execution_count": 16,
   "id": "84a8574d",
   "metadata": {
    "scrolled": true
   },
   "outputs": [
    {
     "data": {
      "text/html": [
       "<div>\n",
       "<style scoped>\n",
       "    .dataframe tbody tr th:only-of-type {\n",
       "        vertical-align: middle;\n",
       "    }\n",
       "\n",
       "    .dataframe tbody tr th {\n",
       "        vertical-align: top;\n",
       "    }\n",
       "\n",
       "    .dataframe thead th {\n",
       "        text-align: right;\n",
       "    }\n",
       "</style>\n",
       "<table border=\"1\" class=\"dataframe\">\n",
       "  <thead>\n",
       "    <tr style=\"text-align: right;\">\n",
       "      <th></th>\n",
       "      <th>Id</th>\n",
       "      <th>MSSubClass</th>\n",
       "      <th>LotFrontage</th>\n",
       "      <th>LotArea</th>\n",
       "      <th>OverallQual</th>\n",
       "      <th>OverallCond</th>\n",
       "      <th>YearBuilt</th>\n",
       "      <th>YearRemodAdd</th>\n",
       "      <th>MasVnrArea</th>\n",
       "      <th>BsmtFinSF1</th>\n",
       "      <th>...</th>\n",
       "      <th>SaleType_Oth</th>\n",
       "      <th>SaleType_WD</th>\n",
       "      <th>SaleType_nan</th>\n",
       "      <th>SaleCondition_Abnorml</th>\n",
       "      <th>SaleCondition_AdjLand</th>\n",
       "      <th>SaleCondition_Alloca</th>\n",
       "      <th>SaleCondition_Family</th>\n",
       "      <th>SaleCondition_Normal</th>\n",
       "      <th>SaleCondition_Partial</th>\n",
       "      <th>SaleCondition_nan</th>\n",
       "    </tr>\n",
       "  </thead>\n",
       "  <tbody>\n",
       "    <tr>\n",
       "      <th>1276</th>\n",
       "      <td>1277</td>\n",
       "      <td>60</td>\n",
       "      <td>-1.0</td>\n",
       "      <td>12936</td>\n",
       "      <td>6</td>\n",
       "      <td>6</td>\n",
       "      <td>1972</td>\n",
       "      <td>1972</td>\n",
       "      <td>0.0</td>\n",
       "      <td>593</td>\n",
       "      <td>...</td>\n",
       "      <td>0</td>\n",
       "      <td>1</td>\n",
       "      <td>0</td>\n",
       "      <td>0</td>\n",
       "      <td>0</td>\n",
       "      <td>0</td>\n",
       "      <td>0</td>\n",
       "      <td>1</td>\n",
       "      <td>0</td>\n",
       "      <td>0</td>\n",
       "    </tr>\n",
       "    <tr>\n",
       "      <th>1217</th>\n",
       "      <td>1218</td>\n",
       "      <td>20</td>\n",
       "      <td>72.0</td>\n",
       "      <td>8640</td>\n",
       "      <td>8</td>\n",
       "      <td>5</td>\n",
       "      <td>2009</td>\n",
       "      <td>2009</td>\n",
       "      <td>72.0</td>\n",
       "      <td>936</td>\n",
       "      <td>...</td>\n",
       "      <td>0</td>\n",
       "      <td>0</td>\n",
       "      <td>0</td>\n",
       "      <td>0</td>\n",
       "      <td>0</td>\n",
       "      <td>0</td>\n",
       "      <td>0</td>\n",
       "      <td>0</td>\n",
       "      <td>1</td>\n",
       "      <td>0</td>\n",
       "    </tr>\n",
       "    <tr>\n",
       "      <th>1036</th>\n",
       "      <td>1037</td>\n",
       "      <td>20</td>\n",
       "      <td>89.0</td>\n",
       "      <td>12898</td>\n",
       "      <td>9</td>\n",
       "      <td>5</td>\n",
       "      <td>2007</td>\n",
       "      <td>2008</td>\n",
       "      <td>70.0</td>\n",
       "      <td>1022</td>\n",
       "      <td>...</td>\n",
       "      <td>0</td>\n",
       "      <td>1</td>\n",
       "      <td>0</td>\n",
       "      <td>0</td>\n",
       "      <td>0</td>\n",
       "      <td>0</td>\n",
       "      <td>0</td>\n",
       "      <td>1</td>\n",
       "      <td>0</td>\n",
       "      <td>0</td>\n",
       "    </tr>\n",
       "    <tr>\n",
       "      <th>1320</th>\n",
       "      <td>1321</td>\n",
       "      <td>20</td>\n",
       "      <td>70.0</td>\n",
       "      <td>8400</td>\n",
       "      <td>6</td>\n",
       "      <td>3</td>\n",
       "      <td>1957</td>\n",
       "      <td>1957</td>\n",
       "      <td>0.0</td>\n",
       "      <td>189</td>\n",
       "      <td>...</td>\n",
       "      <td>0</td>\n",
       "      <td>1</td>\n",
       "      <td>0</td>\n",
       "      <td>0</td>\n",
       "      <td>0</td>\n",
       "      <td>0</td>\n",
       "      <td>0</td>\n",
       "      <td>1</td>\n",
       "      <td>0</td>\n",
       "      <td>0</td>\n",
       "    </tr>\n",
       "    <tr>\n",
       "      <th>80</th>\n",
       "      <td>81</td>\n",
       "      <td>60</td>\n",
       "      <td>100.0</td>\n",
       "      <td>13000</td>\n",
       "      <td>6</td>\n",
       "      <td>6</td>\n",
       "      <td>1968</td>\n",
       "      <td>1968</td>\n",
       "      <td>576.0</td>\n",
       "      <td>448</td>\n",
       "      <td>...</td>\n",
       "      <td>0</td>\n",
       "      <td>1</td>\n",
       "      <td>0</td>\n",
       "      <td>0</td>\n",
       "      <td>0</td>\n",
       "      <td>0</td>\n",
       "      <td>0</td>\n",
       "      <td>1</td>\n",
       "      <td>0</td>\n",
       "      <td>0</td>\n",
       "    </tr>\n",
       "  </tbody>\n",
       "</table>\n",
       "<p>5 rows × 343 columns</p>\n",
       "</div>"
      ],
      "text/plain": [
       "        Id  MSSubClass  LotFrontage  LotArea  OverallQual  OverallCond  \\\n",
       "1276  1277          60         -1.0    12936            6            6   \n",
       "1217  1218          20         72.0     8640            8            5   \n",
       "1036  1037          20         89.0    12898            9            5   \n",
       "1320  1321          20         70.0     8400            6            3   \n",
       "80      81          60        100.0    13000            6            6   \n",
       "\n",
       "      YearBuilt  YearRemodAdd  MasVnrArea  BsmtFinSF1  ...  SaleType_Oth  \\\n",
       "1276       1972          1972         0.0         593  ...             0   \n",
       "1217       2009          2009        72.0         936  ...             0   \n",
       "1036       2007          2008        70.0        1022  ...             0   \n",
       "1320       1957          1957         0.0         189  ...             0   \n",
       "80         1968          1968       576.0         448  ...             0   \n",
       "\n",
       "      SaleType_WD  SaleType_nan  SaleCondition_Abnorml  SaleCondition_AdjLand  \\\n",
       "1276            1             0                      0                      0   \n",
       "1217            0             0                      0                      0   \n",
       "1036            1             0                      0                      0   \n",
       "1320            1             0                      0                      0   \n",
       "80              1             0                      0                      0   \n",
       "\n",
       "      SaleCondition_Alloca  SaleCondition_Family  SaleCondition_Normal  \\\n",
       "1276                     0                     0                     1   \n",
       "1217                     0                     0                     0   \n",
       "1036                     0                     0                     1   \n",
       "1320                     0                     0                     1   \n",
       "80                       0                     0                     1   \n",
       "\n",
       "      SaleCondition_Partial  SaleCondition_nan  \n",
       "1276                      0                  0  \n",
       "1217                      1                  0  \n",
       "1036                      0                  0  \n",
       "1320                      0                  0  \n",
       "80                        0                  0  \n",
       "\n",
       "[5 rows x 343 columns]"
      ]
     },
     "execution_count": 16,
     "metadata": {},
     "output_type": "execute_result"
    }
   ],
   "source": [
    "observ_train.head()"
   ]
  },
  {
   "cell_type": "markdown",
   "id": "32085aff",
   "metadata": {},
   "source": [
    "make sure there is no NAs"
   ]
  },
  {
   "cell_type": "code",
   "execution_count": 17,
   "id": "167e3b44",
   "metadata": {},
   "outputs": [],
   "source": [
    "assert all( observ_train.isna().sum() == 0 )"
   ]
  },
  {
   "cell_type": "code",
   "execution_count": 18,
   "id": "437b6fbe",
   "metadata": {},
   "outputs": [],
   "source": [
    "assert all( observ_test.isna().sum() == 0 )"
   ]
  },
  {
   "cell_type": "code",
   "execution_count": null,
   "id": "51c0eb06",
   "metadata": {},
   "outputs": [],
   "source": []
  }
 ],
 "metadata": {
  "kernelspec": {
   "display_name": "Python 3 (ipykernel)",
   "language": "python",
   "name": "python3"
  },
  "language_info": {
   "codemirror_mode": {
    "name": "ipython",
    "version": 3
   },
   "file_extension": ".py",
   "mimetype": "text/x-python",
   "name": "python",
   "nbconvert_exporter": "python",
   "pygments_lexer": "ipython3",
   "version": "3.9.7"
  }
 },
 "nbformat": 4,
 "nbformat_minor": 5
}
