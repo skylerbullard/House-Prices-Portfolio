{
 "cells": [
  {
   "cell_type": "markdown",
   "id": "2306fb4c",
   "metadata": {},
   "source": [
    "# Data Exploration"
   ]
  },
  {
   "cell_type": "code",
   "execution_count": 36,
   "id": "8c8a0cb0",
   "metadata": {},
   "outputs": [],
   "source": [
    "#import anaything we might need\n",
    "import pandas as pd\n",
    "import seaborn as sns\n",
    "import matplotlib.pyplot as plt"
   ]
  },
  {
   "cell_type": "code",
   "execution_count": 37,
   "id": "6ea84789",
   "metadata": {},
   "outputs": [],
   "source": [
    "#load in the data\n",
    "observed_df = pd.read_csv( open ('train.csv' ) )\n",
    "test_df = pd.read_csv( open ('test.csv' ) )"
   ]
  },
  {
   "cell_type": "markdown",
   "id": "c5a30c78",
   "metadata": {},
   "source": [
    "### Find target"
   ]
  },
  {
   "cell_type": "code",
   "execution_count": 38,
   "id": "04bcb3cf",
   "metadata": {},
   "outputs": [],
   "source": [
    "#define target variable\n",
    "target_var = pd.DataFrame( observed_df , columns = [ 'SalePrice' ] )"
   ]
  },
  {
   "cell_type": "markdown",
   "id": "13bf2f77",
   "metadata": {},
   "source": [
    "### Visualize target"
   ]
  },
  {
   "cell_type": "code",
   "execution_count": 41,
   "id": "4c37551f",
   "metadata": {},
   "outputs": [
    {
     "data": {
      "text/plain": [
       "<AxesSubplot:xlabel='SalePrice', ylabel='Count'>"
      ]
     },
     "execution_count": 41,
     "metadata": {},
     "output_type": "execute_result"
    },
    {
     "data": {
      "image/png": "[encoded data removed]",
      "text/plain": [
       "<Figure size 1008x432 with 2 Axes>"
      ]
     },
     "metadata": {
      "needs_background": "light"
     },
     "output_type": "display_data"
    }
   ],
   "source": [
    "#size grid and plots\n",
    "plt.figure( figsize = ( 14 , 6 ) )\n",
    "\n",
    "plt.subplot( 1 , 2 , 1 )\n",
    "\n",
    "#visualize target with box and whisker plot\n",
    "sns.boxplot( x = observed_df.SalePrice )\n",
    "\n",
    "plt.subplot( 1 , 2 , 2 )\n",
    "\n",
    "#visualize target with distribution plot\n",
    "sns.histplot( observed_df.SalePrice , bins = 25 )"
   ]
  },
  {
   "cell_type": "markdown",
   "id": "567244c6",
   "metadata": {},
   "source": [
    "Our target's distribution appears right skewed with more than a couple outliers"
   ]
  },
  {
   "cell_type": "code",
   "execution_count": null,
   "id": "af5604c6",
   "metadata": {},
   "outputs": [],
   "source": []
  }
 ],
 "metadata": {
  "kernelspec": {
   "display_name": "Python 3 (ipykernel)",
   "language": "python",
   "name": "python3"
  },
  "language_info": {
   "codemirror_mode": {
    "name": "ipython",
    "version": 3
   },
   "file_extension": ".py",
   "mimetype": "text/x-python",
   "name": "python",
   "nbconvert_exporter": "python",
   "pygments_lexer": "ipython3",
   "version": "3.9.7"
  }
 },
 "nbformat": 4,
 "nbformat_minor": 5
}
