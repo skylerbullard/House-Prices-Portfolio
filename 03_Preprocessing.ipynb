{
 "cells": [
  {
   "cell_type": "markdown",
   "id": "f16aef98",
   "metadata": {},
   "source": [
    "# Preprocessing"
   ]
  },
  {
   "cell_type": "markdown",
   "id": "51cfe836",
   "metadata": {},
   "source": [
    "This is where _feature engineering_ and _missing value imputation_ take place. A few points to hit:"
   ]
  },
  {
   "cell_type": "markdown",
   "id": "b8b5db9a",
   "metadata": {},
   "source": [
    "1. should convert raw data to the data model expects\n",
    "2. should be a static 1:1 mapping of inputs to outputs ???\n",
    "3. should not depend on size of input; should produce same result for one as it does for 1000\n",
    "4. should not drop or change order of any records"
   ]
  },
  {
   "cell_type": "code",
   "execution_count": 1,
   "id": "10a22939",
   "metadata": {},
   "outputs": [],
   "source": [
    "#import anything we might need\n",
    "import pandas as pd\n",
    "from sklearn.model_selection import train_test_split"
   ]
  },
  {
   "cell_type": "code",
   "execution_count": 2,
   "id": "d65e53c8",
   "metadata": {},
   "outputs": [],
   "source": [
    "#load in data\n",
    "observed_df = pd.read_csv( open ('train.csv' ) )"
   ]
  },
  {
   "cell_type": "markdown",
   "id": "7a474cca",
   "metadata": {},
   "source": [
    "we are not going to delete anything for this model"
   ]
  },
  {
   "cell_type": "code",
   "execution_count": 6,
   "id": "ee3685c3",
   "metadata": {},
   "outputs": [],
   "source": [
    "#split dataset containing target values\n",
    "observation_train , observation_test = train_test_split( \n",
    "    observed_df , random_state = 25 )"
   ]
  }
 ],
 "metadata": {
  "kernelspec": {
   "display_name": "Python 3 (ipykernel)",
   "language": "python",
   "name": "python3"
  },
  "language_info": {
   "codemirror_mode": {
    "name": "ipython",
    "version": 3
   },
   "file_extension": ".py",
   "mimetype": "text/x-python",
   "name": "python",
   "nbconvert_exporter": "python",
   "pygments_lexer": "ipython3",
   "version": "3.9.7"
  }
 },
 "nbformat": 4,
 "nbformat_minor": 5
}
